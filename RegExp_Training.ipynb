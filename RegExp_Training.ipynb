{
 "cells": [
  {
   "cell_type": "code",
   "execution_count": 1,
   "id": "70af7769",
   "metadata": {},
   "outputs": [],
   "source": [
    "import re"
   ]
  },
  {
   "cell_type": "code",
   "execution_count": 7,
   "id": "b3f45474",
   "metadata": {},
   "outputs": [
    {
     "name": "stdout",
     "output_type": "stream",
     "text": [
      "abbbc\n",
      "(4, 9)\n"
     ]
    }
   ],
   "source": [
    "m = re.search(r\"ab+c\", 'ac. abbbc, abc')\n",
    "print (m.group())\n",
    "print (m.span())"
   ]
  },
  {
   "cell_type": "markdown",
   "id": "7bd8a6d7",
   "metadata": {},
   "source": [
    "# FINDALL AND COMMON OPERATORS (+*?/.^)"
   ]
  },
  {
   "cell_type": "code",
   "execution_count": 8,
   "id": "39b50d5e",
   "metadata": {},
   "outputs": [
    {
     "data": {
      "text/plain": [
       "['colour', 'colouuur']"
      ]
     },
     "execution_count": 8,
     "metadata": {},
     "output_type": "execute_result"
    }
   ],
   "source": [
    "re.findall(r\"colou+r\", 'colour, color. colouuur')"
   ]
  },
  {
   "cell_type": "code",
   "execution_count": 9,
   "id": "3e96a414",
   "metadata": {},
   "outputs": [
    {
     "data": {
      "text/plain": [
       "['colour', 'color', 'colouuur']"
      ]
     },
     "execution_count": 9,
     "metadata": {},
     "output_type": "execute_result"
    }
   ],
   "source": [
    "re.findall(r\"colou*r\", 'colour, color. colouuur')"
   ]
  },
  {
   "cell_type": "code",
   "execution_count": 10,
   "id": "872d101e",
   "metadata": {},
   "outputs": [
    {
     "data": {
      "text/plain": [
       "['colour', 'color']"
      ]
     },
     "execution_count": 10,
     "metadata": {},
     "output_type": "execute_result"
    }
   ],
   "source": [
    "re.findall(r\"colou?r\", 'colour, color. colouuur')"
   ]
  },
  {
   "cell_type": "code",
   "execution_count": 11,
   "id": "6eec3b39",
   "metadata": {},
   "outputs": [
    {
     "data": {
      "text/plain": [
       "['cartón', 'carton', 'parton']"
      ]
     },
     "execution_count": 11,
     "metadata": {},
     "output_type": "execute_result"
    }
   ],
   "source": [
    "re.findall(r\".art.n\", 'cartón, maraton, carton, parton, cartoooooon')"
   ]
  },
  {
   "cell_type": "code",
   "execution_count": 12,
   "id": "94590882",
   "metadata": {},
   "outputs": [
    {
     "data": {
      "text/plain": [
       "['cartón, maraton, carton, parton, cartoooooon']"
      ]
     },
     "execution_count": 12,
     "metadata": {},
     "output_type": "execute_result"
    }
   ],
   "source": [
    "re.findall(r\".art.*n\", 'cartón, maraton, carton, parton, cartoooooon')"
   ]
  },
  {
   "cell_type": "code",
   "execution_count": 13,
   "id": "415da810",
   "metadata": {},
   "outputs": [
    {
     "data": {
      "text/plain": [
       "['parton', 'cartin']"
      ]
     },
     "execution_count": 13,
     "metadata": {},
     "output_type": "execute_result"
    }
   ],
   "source": [
    "re.findall(r\".art[a-z]n\", 'parton, part1n, cartón, cartOn, cartin')"
   ]
  },
  {
   "cell_type": "code",
   "execution_count": 14,
   "id": "a372d7e6",
   "metadata": {},
   "outputs": [
    {
     "data": {
      "text/plain": [
       "['parton', 'cartin']"
      ]
     },
     "execution_count": 14,
     "metadata": {},
     "output_type": "execute_result"
    }
   ],
   "source": [
    "re.findall(r\".art[a-z]n\", 'parton, part1n, cartón, cartOn, cartin')"
   ]
  },
  {
   "cell_type": "code",
   "execution_count": 15,
   "id": "9e603e73",
   "metadata": {},
   "outputs": [
    {
     "data": {
      "text/plain": [
       "['car']"
      ]
     },
     "execution_count": 15,
     "metadata": {},
     "output_type": "execute_result"
    }
   ],
   "source": [
    "re.findall(r\"^...\", 'carton, part1n, cartón, cartOn, cartin')"
   ]
  },
  {
   "cell_type": "code",
   "execution_count": 16,
   "id": "b9570be6",
   "metadata": {},
   "outputs": [
    {
     "data": {
      "text/plain": [
       "['carton', 'part', 'cart', 'cart', 'cartin']"
      ]
     },
     "execution_count": 16,
     "metadata": {},
     "output_type": "execute_result"
    }
   ],
   "source": [
    "re.findall(r\".a[a-z]+\", 'carton, part1n, cartón, cartOn, certon. cartin')"
   ]
  },
  {
   "cell_type": "code",
   "execution_count": 22,
   "id": "78efa273",
   "metadata": {},
   "outputs": [
    {
     "data": {
      "text/plain": [
       "['m!?asdf,', 'm!?a.']"
      ]
     },
     "execution_count": 22,
     "metadata": {},
     "output_type": "execute_result"
    }
   ],
   "source": [
    "re.findall(r\"m\\!\\?[^ ]+\", 'm!?asdf, m!?a. m\\!')"
   ]
  },
  {
   "cell_type": "code",
   "execution_count": 32,
   "id": "f68eb11c",
   "metadata": {},
   "outputs": [
    {
     "data": {
      "text/plain": [
       "['m!?asdíf', 'm!?a']"
      ]
     },
     "execution_count": 32,
     "metadata": {},
     "output_type": "execute_result"
    }
   ],
   "source": [
    "re.findall(r\"m\\!\\?[a-zA-Z0-9áéíóúÁÉÍÓÚ]*\", 'm!?asdíf, m!?a. m\\!')"
   ]
  },
  {
   "cell_type": "code",
   "execution_count": 33,
   "id": "1e91abf8",
   "metadata": {},
   "outputs": [
    {
     "data": {
      "text/plain": [
       "['m!?asdf,', 'm!?a.']"
      ]
     },
     "execution_count": 33,
     "metadata": {},
     "output_type": "execute_result"
    }
   ],
   "source": [
    "re.findall(r\"m\\!\\?[^ ]+\", 'm!?asdf, m!?a. m\\!')"
   ]
  },
  {
   "cell_type": "markdown",
   "id": "7488f67e",
   "metadata": {},
   "source": [
    "# SUBSTITUTIONS UNTILL NEXT WORD"
   ]
  },
  {
   "cell_type": "code",
   "execution_count": 38,
   "id": "82c9c008",
   "metadata": {},
   "outputs": [
    {
     "data": {
      "text/plain": [
       "\"Hello [REPLY] I awas looking at [REPLY] There is no way, [REPLY] but I'll do\""
      ]
     },
     "execution_count": 38,
     "metadata": {},
     "output_type": "execute_result"
    }
   ],
   "source": [
    "# Substitution until next space or end (commas, point, exclamation... substituted)\n",
    "re.sub(r'@[^ ]+', '[REPLY]', \"Hello @Malcóm, I awas looking at @Pe123TERá! There is no way, @StEvEn87, but I'll do\")"
   ]
  },
  {
   "cell_type": "code",
   "execution_count": 39,
   "id": "34887ed6",
   "metadata": {},
   "outputs": [
    {
     "data": {
      "text/plain": [
       "\"Hello [REPLY], I awas looking at [REPLY]! There is no way, [REPLY], but I'll do\""
      ]
     },
     "execution_count": 39,
     "metadata": {},
     "output_type": "execute_result"
    }
   ],
   "source": [
    "# Substitution until next no letter, no number (commas, points, ex,clamation... not substituted)\n",
    "re.sub(r'@[a-zA-Z0-9áéíóúÁÉÍÓÚñÑ]*', '[REPLY]', \"Hello @MaMañlcómlcomET, I awas looking at @PeET123TERá! There is no way, @StEvEn87, but I'll do\")"
   ]
  },
  {
   "cell_type": "markdown",
   "id": "37a5b67f",
   "metadata": {},
   "source": [
    "# SUBSTITUTIONS IN PANDAS"
   ]
  },
  {
   "cell_type": "code",
   "execution_count": 41,
   "id": "183c3669",
   "metadata": {},
   "outputs": [],
   "source": [
    "# df.specific_column = df.specific_column.str.replace(r'@[^ ]+', '[REF]', regex=True)"
   ]
  },
  {
   "cell_type": "code",
   "execution_count": null,
   "id": "07d2cfa9",
   "metadata": {},
   "outputs": [],
   "source": []
  }
 ],
 "metadata": {
  "kernelspec": {
   "display_name": "Python 3 (ipykernel)",
   "language": "python",
   "name": "python3"
  },
  "language_info": {
   "codemirror_mode": {
    "name": "ipython",
    "version": 3
   },
   "file_extension": ".py",
   "mimetype": "text/x-python",
   "name": "python",
   "nbconvert_exporter": "python",
   "pygments_lexer": "ipython3",
   "version": "3.8.12"
  }
 },
 "nbformat": 4,
 "nbformat_minor": 5
}
