{
 "cells": [
  {
   "cell_type": "code",
   "execution_count": 4,
   "id": "70af7769",
   "metadata": {},
   "outputs": [],
   "source": [
    "import re"
   ]
  },
  {
   "cell_type": "code",
   "execution_count": 7,
   "id": "b3f45474",
   "metadata": {},
   "outputs": [
    {
     "name": "stdout",
     "output_type": "stream",
     "text": [
      "abbbc\n",
      "(4, 9)\n"
     ]
    }
   ],
   "source": [
    "m = re.search(r\"ab+c\", 'ac. abbbc, abc')\n",
    "print (m.group())\n",
    "print (m.span())"
   ]
  },
  {
   "cell_type": "markdown",
   "id": "7bd8a6d7",
   "metadata": {},
   "source": [
    "# FINDALL AND COMMON OPERATORS (+*?/.^)"
   ]
  },
  {
   "cell_type": "code",
   "execution_count": 8,
   "id": "39b50d5e",
   "metadata": {},
   "outputs": [
    {
     "data": {
      "text/plain": [
       "['colour', 'colouuur']"
      ]
     },
     "execution_count": 8,
     "metadata": {},
     "output_type": "execute_result"
    }
   ],
   "source": [
    "re.findall(r\"colou+r\", 'colour, color. colouuur')"
   ]
  },
  {
   "cell_type": "code",
   "execution_count": 9,
   "id": "3e96a414",
   "metadata": {},
   "outputs": [
    {
     "data": {
      "text/plain": [
       "['colour', 'color', 'colouuur']"
      ]
     },
     "execution_count": 9,
     "metadata": {},
     "output_type": "execute_result"
    }
   ],
   "source": [
    "re.findall(r\"colou*r\", 'colour, color. colouuur')"
   ]
  },
  {
   "cell_type": "code",
   "execution_count": 10,
   "id": "872d101e",
   "metadata": {},
   "outputs": [
    {
     "data": {
      "text/plain": [
       "['colour', 'color']"
      ]
     },
     "execution_count": 10,
     "metadata": {},
     "output_type": "execute_result"
    }
   ],
   "source": [
    "re.findall(r\"colou?r\", 'colour, color. colouuur')"
   ]
  },
  {
   "cell_type": "code",
   "execution_count": 11,
   "id": "6eec3b39",
   "metadata": {},
   "outputs": [
    {
     "data": {
      "text/plain": [
       "['cartón', 'carton', 'parton']"
      ]
     },
     "execution_count": 11,
     "metadata": {},
     "output_type": "execute_result"
    }
   ],
   "source": [
    "re.findall(r\".art.n\", 'cartón, maraton, carton, parton, cartoooooon')"
   ]
  },
  {
   "cell_type": "code",
   "execution_count": 12,
   "id": "94590882",
   "metadata": {},
   "outputs": [
    {
     "data": {
      "text/plain": [
       "['cartón, maraton, carton, parton, cartoooooon']"
      ]
     },
     "execution_count": 12,
     "metadata": {},
     "output_type": "execute_result"
    }
   ],
   "source": [
    "re.findall(r\".art.*n\", 'cartón, maraton, carton, parton, cartoooooon')"
   ]
  },
  {
   "cell_type": "code",
   "execution_count": 13,
   "id": "415da810",
   "metadata": {},
   "outputs": [
    {
     "data": {
      "text/plain": [
       "['parton', 'cartin']"
      ]
     },
     "execution_count": 13,
     "metadata": {},
     "output_type": "execute_result"
    }
   ],
   "source": [
    "re.findall(r\".art[a-z]n\", 'parton, part1n, cartón, cartOn, cartin')"
   ]
  },
  {
   "cell_type": "code",
   "execution_count": 14,
   "id": "a372d7e6",
   "metadata": {},
   "outputs": [
    {
     "data": {
      "text/plain": [
       "['parton', 'cartin']"
      ]
     },
     "execution_count": 14,
     "metadata": {},
     "output_type": "execute_result"
    }
   ],
   "source": [
    "re.findall(r\".art[a-z]n\", 'parton, part1n, cartón, cartOn, cartin')"
   ]
  },
  {
   "cell_type": "code",
   "execution_count": 15,
   "id": "9e603e73",
   "metadata": {},
   "outputs": [
    {
     "data": {
      "text/plain": [
       "['car']"
      ]
     },
     "execution_count": 15,
     "metadata": {},
     "output_type": "execute_result"
    }
   ],
   "source": [
    "re.findall(r\"^...\", 'carton, part1n, cartón, cartOn, cartin')"
   ]
  },
  {
   "cell_type": "code",
   "execution_count": 16,
   "id": "b9570be6",
   "metadata": {},
   "outputs": [
    {
     "data": {
      "text/plain": [
       "['carton', 'part', 'cart', 'cart', 'cartin']"
      ]
     },
     "execution_count": 16,
     "metadata": {},
     "output_type": "execute_result"
    }
   ],
   "source": [
    "re.findall(r\".a[a-z]+\", 'carton, part1n, cartón, cartOn, certon. cartin')"
   ]
  },
  {
   "cell_type": "code",
   "execution_count": 22,
   "id": "78efa273",
   "metadata": {},
   "outputs": [
    {
     "data": {
      "text/plain": [
       "['m!?asdf,', 'm!?a.']"
      ]
     },
     "execution_count": 22,
     "metadata": {},
     "output_type": "execute_result"
    }
   ],
   "source": [
    "re.findall(r\"m\\!\\?[^ ]+\", 'm!?asdf, m!?a. m\\!')"
   ]
  },
  {
   "cell_type": "code",
   "execution_count": 32,
   "id": "f68eb11c",
   "metadata": {},
   "outputs": [
    {
     "data": {
      "text/plain": [
       "['m!?asdíf', 'm!?a']"
      ]
     },
     "execution_count": 32,
     "metadata": {},
     "output_type": "execute_result"
    }
   ],
   "source": [
    "re.findall(r\"m\\!\\?[a-zA-Z0-9áéíóúÁÉÍÓÚ]*\", 'm!?asdíf, m!?a. m\\!')"
   ]
  },
  {
   "cell_type": "code",
   "execution_count": 33,
   "id": "1e91abf8",
   "metadata": {},
   "outputs": [
    {
     "data": {
      "text/plain": [
       "['m!?asdf,', 'm!?a.']"
      ]
     },
     "execution_count": 33,
     "metadata": {},
     "output_type": "execute_result"
    }
   ],
   "source": [
    "re.findall(r\"m\\!\\?[^ ]+\", 'm!?asdf, m!?a. m\\!')"
   ]
  },
  {
   "cell_type": "markdown",
   "id": "7488f67e",
   "metadata": {},
   "source": [
    "# SUBSTITUTIONS UNTILL NEXT WORD"
   ]
  },
  {
   "cell_type": "code",
   "execution_count": 38,
   "id": "82c9c008",
   "metadata": {},
   "outputs": [
    {
     "data": {
      "text/plain": [
       "\"Hello [REPLY] I awas looking at [REPLY] There is no way, [REPLY] but I'll do\""
      ]
     },
     "execution_count": 38,
     "metadata": {},
     "output_type": "execute_result"
    }
   ],
   "source": [
    "# Substitution until next space or end (commas, point, exclamation... substituted)\n",
    "re.sub(r'@[^ ]+', '[REPLY]', \"Hello @Malcóm, I awas looking at @Pe123TERá! There is no way, @StEvEn87, but I'll do\")"
   ]
  },
  {
   "cell_type": "code",
   "execution_count": 39,
   "id": "34887ed6",
   "metadata": {},
   "outputs": [
    {
     "data": {
      "text/plain": [
       "\"Hello [REPLY], I awas looking at [REPLY]! There is no way, [REPLY], but I'll do\""
      ]
     },
     "execution_count": 39,
     "metadata": {},
     "output_type": "execute_result"
    }
   ],
   "source": [
    "# Substitution until next no letter, no number (commas, points, ex,clamation... not substituted)\n",
    "re.sub(r'@[a-zA-Z0-9áéíóúÁÉÍÓÚñÑ]*', '[REPLY]', \"Hello @MaMañlcómlcomET, I awas looking at @PeET123TERá! There is no way, @StEvEn87, but I'll do\")"
   ]
  },
  {
   "cell_type": "markdown",
   "id": "37a5b67f",
   "metadata": {},
   "source": [
    "# SUBSTITUTIONS IN PANDAS"
   ]
  },
  {
   "cell_type": "code",
   "execution_count": 41,
   "id": "183c3669",
   "metadata": {},
   "outputs": [],
   "source": [
    "# df.specific_column = df.specific_column.str.replace(r'@[^ ]+', '[REF]', regex=True)"
   ]
  },
  {
   "cell_type": "code",
   "execution_count": 1,
   "id": "9580de51",
   "metadata": {},
   "outputs": [],
   "source": [
    "import pandas as pd"
   ]
  },
  {
   "cell_type": "code",
   "execution_count": 26,
   "id": "07d2cfa9",
   "metadata": {},
   "outputs": [],
   "source": [
    "df = pd.DataFrame()\n",
    "\n",
    "texts = [\"Hoy he comprado 5 hamburguesas en una hamburguesería que vendía hamburguesas\",\n",
    "        \"@hamburger, las hamburguesas H4M8UR6U3R son las mejores hamburguesas del mercado\",\n",
    "        \"Es demasiado pronto para sacar conclusiones\",\n",
    "        \"Hamburguesa sabor a fresa en el hipercor\",\n",
    "        \"Quien lo diría, jamás he visto cosa igual!\",\n",
    "        \"Hay una localidad llamada Hamburgo; por alguna razón me da hambre\"]\n",
    "\n",
    "df['texts'] = texts"
   ]
  },
  {
   "cell_type": "code",
   "execution_count": 27,
   "id": "c8761f45",
   "metadata": {},
   "outputs": [
    {
     "name": "stdout",
     "output_type": "stream",
     "text": [
      "Hoy he comprado 5 [HAMBURGER_RELATED] en una [HAMBURGER_RELATED] que vendía [HAMBURGER_RELATED]\n",
      "\n",
      "@[HAMBURGER_RELATED] las [HAMBURGER_RELATED] H4M8UR6U3R son las mejores [HAMBURGER_RELATED] del mercado\n",
      "\n",
      "Es demasiado pronto para sacar conclusiones\n",
      "\n",
      "Hamburguesa sabor a fresa en el hipercor\n",
      "\n",
      "Quien lo diría, jamás he visto cosa igual!\n",
      "\n",
      "Hay una localidad llamada Hamburgo; por alguna razón me da [HAMBURGER_RELATED]\n",
      "\n"
     ]
    }
   ],
   "source": [
    "mod_df = df.copy()\n",
    "\n",
    "mod_df.texts = mod_df.texts.str.replace(r'hamb[^ ]+', '[HAMBURGER_RELATED]', regex=True)\n",
    "for i in mod_df.texts: print(i, end = '\\n\\n')"
   ]
  },
  {
   "cell_type": "code",
   "execution_count": 52,
   "id": "eaf46d85",
   "metadata": {},
   "outputs": [
    {
     "name": "stdout",
     "output_type": "stream",
     "text": [
      "Hoy he comprado 5 [HAMBURGER_RELATED] en una [HAMBURGER_RELATED] que vendía [HAMBURGER_RELATED]\n",
      "\n",
      "@[HAMBURGER_RELATED] las [HAMBURGER_RELATED] H4M8UR6U3R son las mejores [HAMBURGER_RELATED] del mercado\n",
      "\n",
      "Es demasiado pronto para sacar conclusiones\n",
      "\n",
      "[HAMBURGER_RELATED] sabor a fresa en el hipercor\n",
      "\n",
      "Quien lo diría, jamás he visto cosa igual!\n",
      "\n",
      "Hay una localidad llamada [HAMBURGER_RELATED] por alguna razón me da [HAMBURGER_RELATED]\n",
      "\n"
     ]
    }
   ],
   "source": [
    "mod_df = df.copy()\n",
    "\n",
    "mod_df.texts = mod_df.texts.str.replace(r'hamb[^ ]+', '[HAMBURGER_RELATED]', flags=re.IGNORECASE, regex=True)\n",
    "for i in mod_df.texts: print(i, end = '\\n\\n')"
   ]
  },
  {
   "cell_type": "code",
   "execution_count": 53,
   "id": "b017082f",
   "metadata": {},
   "outputs": [
    {
     "name": "stdout",
     "output_type": "stream",
     "text": [
      "Hoy he comprado 5 [HAMBURGER_RELATED] en una [HAMBURGER_RELATED] que vendía [HAMBURGER_RELATED]\n",
      "\n",
      "@[HAMBURGER_RELATED] las [HAMBURGER_RELATED] [HAMBURGER_RELATED] son las mejores [HAMBURGER_RELATED] del mercado\n",
      "\n",
      "Es demasiado pronto para sacar conclusiones\n",
      "\n",
      "[HAMBURGER_RELATED] sabor a fresa en el hipercor\n",
      "\n",
      "Quien lo diría, jamás he visto cosa igual!\n",
      "\n",
      "Hay una localidad llamada [HAMBURGER_RELATED] por alguna razón me da [HAMBURGER_RELATED]\n",
      "\n"
     ]
    }
   ],
   "source": [
    "mod_df = df.copy()\n",
    "\n",
    "mod_df.texts = mod_df.texts.str.replace(r'h.m.[^ ]+', '[HAMBURGER_RELATED]', flags=re.IGNORECASE, regex=True)\n",
    "for i in mod_df.texts: print(i, end = '\\n\\n')"
   ]
  },
  {
   "cell_type": "markdown",
   "id": "42f0f421",
   "metadata": {},
   "source": [
    "# LIST MATCHES IN PANDAS"
   ]
  },
  {
   "cell_type": "code",
   "execution_count": 58,
   "id": "e8b09b73",
   "metadata": {},
   "outputs": [
    {
     "data": {
      "text/plain": [
       "0         [hamburguesas, hamburguesería, hamburguesas]\n",
       "1    [hamburger,, hamburguesas, H4M8UR6U3R, hamburg...\n",
       "2                                                   []\n",
       "3                                        [Hamburguesa]\n",
       "4                                                   []\n",
       "5                                  [Hamburgo;, hambre]\n",
       "Name: texts, dtype: object"
      ]
     },
     "execution_count": 58,
     "metadata": {},
     "output_type": "execute_result"
    }
   ],
   "source": [
    "mod_df = df.copy()\n",
    "\n",
    "matches = mod_df.texts.str.findall(r'h.m.[^ ]+', flags=re.IGNORECASE)\n",
    "matches "
   ]
  },
  {
   "cell_type": "code",
   "execution_count": 59,
   "id": "efa8b8e4",
   "metadata": {},
   "outputs": [
    {
     "data": {
      "text/plain": [
       "[['hamburguesas', 'hamburguesería', 'hamburguesas'],\n",
       " ['hamburger,', 'hamburguesas', 'H4M8UR6U3R', 'hamburguesas'],\n",
       " [],\n",
       " ['Hamburguesa'],\n",
       " [],\n",
       " ['Hamburgo;', 'hambre']]"
      ]
     },
     "execution_count": 59,
     "metadata": {},
     "output_type": "execute_result"
    }
   ],
   "source": [
    "matches.to_list()"
   ]
  },
  {
   "cell_type": "code",
   "execution_count": 60,
   "id": "9356867c",
   "metadata": {},
   "outputs": [
    {
     "data": {
      "text/plain": [
       "{'H4M8UR6U3R',\n",
       " 'Hamburgo;',\n",
       " 'Hamburguesa',\n",
       " 'hambre',\n",
       " 'hamburger,',\n",
       " 'hamburguesas',\n",
       " 'hamburguesería'}"
      ]
     },
     "execution_count": 60,
     "metadata": {},
     "output_type": "execute_result"
    }
   ],
   "source": [
    "import functools\n",
    "\n",
    "def strlist (a,b):\n",
    "    return (a+b)\n",
    "\n",
    "set(functools.reduce(strlist, matches))"
   ]
  },
  {
   "cell_type": "markdown",
   "id": "39a9da6e",
   "metadata": {},
   "source": [
    "# COUNT MATCHES IN PANDAS"
   ]
  },
  {
   "cell_type": "code",
   "execution_count": 61,
   "id": "8bcec8da",
   "metadata": {},
   "outputs": [
    {
     "data": {
      "text/plain": [
       "0    3\n",
       "1    3\n",
       "2    0\n",
       "3    0\n",
       "4    0\n",
       "5    1\n",
       "Name: texts, dtype: int64"
      ]
     },
     "execution_count": 61,
     "metadata": {},
     "output_type": "execute_result"
    }
   ],
   "source": [
    "mod_df = df.copy()\n",
    "\n",
    "counts = mod_df.texts.str.count(r'hamb[^ ]+')\n",
    "counts"
   ]
  },
  {
   "cell_type": "code",
   "execution_count": 62,
   "id": "4efdff23",
   "metadata": {},
   "outputs": [
    {
     "data": {
      "text/plain": [
       "7"
      ]
     },
     "execution_count": 62,
     "metadata": {},
     "output_type": "execute_result"
    }
   ],
   "source": [
    "sum(counts)"
   ]
  },
  {
   "cell_type": "markdown",
   "id": "ea0f0dff",
   "metadata": {},
   "source": [
    "# COUNT LINES THAT MENTION IN PANDAS"
   ]
  },
  {
   "cell_type": "code",
   "execution_count": 73,
   "id": "2d10c9fb",
   "metadata": {},
   "outputs": [
    {
     "data": {
      "text/plain": [
       "0    3\n",
       "1    3\n",
       "2    0\n",
       "3    0\n",
       "4    0\n",
       "5    1\n",
       "Name: texts, dtype: int64"
      ]
     },
     "execution_count": 73,
     "metadata": {},
     "output_type": "execute_result"
    }
   ],
   "source": [
    "mod_df = df.copy()\n",
    "\n",
    "counts = mod_df.texts.str.count(r'hamb[^ ]+')\n",
    "counts"
   ]
  },
  {
   "cell_type": "code",
   "execution_count": 74,
   "id": "10807b67",
   "metadata": {},
   "outputs": [
    {
     "data": {
      "text/plain": [
       "3"
      ]
     },
     "execution_count": 74,
     "metadata": {},
     "output_type": "execute_result"
    }
   ],
   "source": [
    "mentions = counts > 0\n",
    "mentions = sum(mentions)\n",
    "mentions"
   ]
  },
  {
   "cell_type": "markdown",
   "id": "46f59033",
   "metadata": {},
   "source": [
    "# OTHER PANDAS STRING OPERATIONS"
   ]
  },
  {
   "cell_type": "markdown",
   "id": "baa71a36",
   "metadata": {},
   "source": [
    "## Word Frequency without For or Loop operations"
   ]
  },
  {
   "cell_type": "code",
   "execution_count": 112,
   "id": "ca523cb8",
   "metadata": {},
   "outputs": [],
   "source": [
    "df_nosymb = df.copy()"
   ]
  },
  {
   "cell_type": "code",
   "execution_count": 113,
   "id": "5fba08a6",
   "metadata": {},
   "outputs": [],
   "source": [
    "df_nosymb.texts = df_nosymb.texts.str.replace(r'[/;/,/./-/_/¡/!/¿/?/)/(]', '', flags=re.IGNORECASE, regex=True)"
   ]
  },
  {
   "cell_type": "code",
   "execution_count": 114,
   "id": "6e5fbf14",
   "metadata": {},
   "outputs": [
    {
     "data": {
      "text/plain": [
       "0    [Hoy, he, comprado, 5, hamburguesas, en, una, ...\n",
       "1    [@hamburger, las, hamburguesas, H4M8UR6U3R, so...\n",
       "2    [Es, demasiado, pronto, para, sacar, conclusio...\n",
       "3     [Hamburguesa, sabor, a, fresa, en, el, hipercor]\n",
       "4    [Quien, lo, diría, jamás, he, visto, cosa, igual]\n",
       "5    [Hay, una, localidad, llamada, Hamburgo, por, ...\n",
       "Name: texts, dtype: object"
      ]
     },
     "execution_count": 114,
     "metadata": {},
     "output_type": "execute_result"
    }
   ],
   "source": [
    "df_nosymb.texts.str.split(' ')"
   ]
  },
  {
   "cell_type": "code",
   "execution_count": 115,
   "id": "5211bde9",
   "metadata": {},
   "outputs": [
    {
     "data": {
      "text/plain": [
       "['Hoy',\n",
       " 'he',\n",
       " 'comprado',\n",
       " '5',\n",
       " 'hamburguesas',\n",
       " 'en',\n",
       " 'una',\n",
       " 'hamburguesería',\n",
       " 'que',\n",
       " 'vendía',\n",
       " 'hamburguesas',\n",
       " '@hamburger',\n",
       " 'las',\n",
       " 'hamburguesas',\n",
       " 'H4M8UR6U3R',\n",
       " 'son',\n",
       " 'las',\n",
       " 'mejores',\n",
       " 'hamburguesas',\n",
       " 'del',\n",
       " 'mercado',\n",
       " 'Es',\n",
       " 'demasiado',\n",
       " 'pronto',\n",
       " 'para',\n",
       " 'sacar',\n",
       " 'conclusiones',\n",
       " 'Hamburguesa',\n",
       " 'sabor',\n",
       " 'a',\n",
       " 'fresa',\n",
       " 'en',\n",
       " 'el',\n",
       " 'hipercor',\n",
       " 'Quien',\n",
       " 'lo',\n",
       " 'diría',\n",
       " 'jamás',\n",
       " 'he',\n",
       " 'visto',\n",
       " 'cosa',\n",
       " 'igual',\n",
       " 'Hay',\n",
       " 'una',\n",
       " 'localidad',\n",
       " 'llamada',\n",
       " 'Hamburgo',\n",
       " 'por',\n",
       " 'alguna',\n",
       " 'razón',\n",
       " 'me',\n",
       " 'da',\n",
       " 'hambre']"
      ]
     },
     "execution_count": 115,
     "metadata": {},
     "output_type": "execute_result"
    }
   ],
   "source": [
    "list_of_words = functools.reduce(strlist, df_nosymb.texts.str.split(' '))\n",
    "list_of_words"
   ]
  },
  {
   "cell_type": "code",
   "execution_count": 116,
   "id": "be5c4a50",
   "metadata": {},
   "outputs": [],
   "source": [
    "temp = pd.DataFrame(list_of_words)"
   ]
  },
  {
   "cell_type": "code",
   "execution_count": 117,
   "id": "807ce80a",
   "metadata": {},
   "outputs": [
    {
     "data": {
      "text/plain": [
       "hamburguesas      4\n",
       "una               2\n",
       "en                2\n",
       "las               2\n",
       "he                2\n",
       "5                 1\n",
       "mejores           1\n",
       "igual             1\n",
       "jamás             1\n",
       "llamada           1\n",
       "lo                1\n",
       "localidad         1\n",
       "me                1\n",
       "mercado           1\n",
       "para              1\n",
       "por               1\n",
       "pronto            1\n",
       "que               1\n",
       "razón             1\n",
       "sabor             1\n",
       "sacar             1\n",
       "son               1\n",
       "vendía            1\n",
       "hipercor          1\n",
       "hamburguesería    1\n",
       "@hamburger        1\n",
       "alguna            1\n",
       "Es                1\n",
       "H4M8UR6U3R        1\n",
       "Hamburgo          1\n",
       "Hamburguesa       1\n",
       "Hay               1\n",
       "Hoy               1\n",
       "Quien             1\n",
       "a                 1\n",
       "comprado          1\n",
       "hambre            1\n",
       "conclusiones      1\n",
       "cosa              1\n",
       "da                1\n",
       "del               1\n",
       "demasiado         1\n",
       "diría             1\n",
       "el                1\n",
       "fresa             1\n",
       "visto             1\n",
       "dtype: int64"
      ]
     },
     "execution_count": 117,
     "metadata": {},
     "output_type": "execute_result"
    }
   ],
   "source": [
    "temp.value_counts()"
   ]
  },
  {
   "cell_type": "code",
   "execution_count": null,
   "id": "1b35c3ae",
   "metadata": {},
   "outputs": [],
   "source": []
  },
  {
   "cell_type": "code",
   "execution_count": null,
   "id": "3f28360f",
   "metadata": {},
   "outputs": [],
   "source": []
  }
 ],
 "metadata": {
  "kernelspec": {
   "display_name": "Python 3 (ipykernel)",
   "language": "python",
   "name": "python3"
  },
  "language_info": {
   "codemirror_mode": {
    "name": "ipython",
    "version": 3
   },
   "file_extension": ".py",
   "mimetype": "text/x-python",
   "name": "python",
   "nbconvert_exporter": "python",
   "pygments_lexer": "ipython3",
   "version": "3.8.12"
  }
 },
 "nbformat": 4,
 "nbformat_minor": 5
}
