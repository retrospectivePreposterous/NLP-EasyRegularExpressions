{
 "cells": [
  {
   "cell_type": "code",
   "execution_count": 1,
   "id": "70af7769",
   "metadata": {},
   "outputs": [],
   "source": [
    "import re"
   ]
  },
  {
   "cell_type": "code",
   "execution_count": 7,
   "id": "b3f45474",
   "metadata": {},
   "outputs": [
    {
     "name": "stdout",
     "output_type": "stream",
     "text": [
      "abbbc\n",
      "(4, 9)\n"
     ]
    }
   ],
   "source": [
    "m = re.search(r\"ab+c\", 'ac. abbbc, abc')\n",
    "print (m.group())\n",
    "print (m.span())"
   ]
  },
  {
   "cell_type": "markdown",
   "id": "ae717c6f",
   "metadata": {},
   "source": [
    "# FINDALL AND COMMON OPERATORS (+*?/.^)"
   ]
  },
  {
   "cell_type": "code",
   "execution_count": 8,
   "id": "39b50d5e",
   "metadata": {},
   "outputs": [
    {
     "data": {
      "text/plain": [
       "['colour', 'colouuur']"
      ]
     },
     "execution_count": 8,
     "metadata": {},
     "output_type": "execute_result"
    }
   ],
   "source": [
    "re.findall(r\"colou+r\", 'colour, color. colouuur')"
   ]
  },
  {
   "cell_type": "code",
   "execution_count": 9,
   "id": "3e96a414",
   "metadata": {},
   "outputs": [
    {
     "data": {
      "text/plain": [
       "['colour', 'color', 'colouuur']"
      ]
     },
     "execution_count": 9,
     "metadata": {},
     "output_type": "execute_result"
    }
   ],
   "source": [
    "re.findall(r\"colou*r\", 'colour, color. colouuur')"
   ]
  },
  {
   "cell_type": "code",
   "execution_count": 10,
   "id": "872d101e",
   "metadata": {},
   "outputs": [
    {
     "data": {
      "text/plain": [
       "['colour', 'color']"
      ]
     },
     "execution_count": 10,
     "metadata": {},
     "output_type": "execute_result"
    }
   ],
   "source": [
    "re.findall(r\"colou?r\", 'colour, color. colouuur')"
   ]
  },
  {
   "cell_type": "code",
   "execution_count": 11,
   "id": "6eec3b39",
   "metadata": {},
   "outputs": [
    {
     "data": {
      "text/plain": [
       "['cartón', 'carton', 'parton']"
      ]
     },
     "execution_count": 11,
     "metadata": {},
     "output_type": "execute_result"
    }
   ],
   "source": [
    "re.findall(r\".art.n\", 'cartón, maraton, carton, parton, cartoooooon')"
   ]
  },
  {
   "cell_type": "code",
   "execution_count": 12,
   "id": "94590882",
   "metadata": {},
   "outputs": [
    {
     "data": {
      "text/plain": [
       "['cartón, maraton, carton, parton, cartoooooon']"
      ]
     },
     "execution_count": 12,
     "metadata": {},
     "output_type": "execute_result"
    }
   ],
   "source": [
    "re.findall(r\".art.*n\", 'cartón, maraton, carton, parton, cartoooooon')"
   ]
  },
  {
   "cell_type": "code",
   "execution_count": 13,
   "id": "415da810",
   "metadata": {},
   "outputs": [
    {
     "data": {
      "text/plain": [
       "['parton', 'cartin']"
      ]
     },
     "execution_count": 13,
     "metadata": {},
     "output_type": "execute_result"
    }
   ],
   "source": [
    "re.findall(r\".art[a-z]n\", 'parton, part1n, cartón, cartOn, cartin')"
   ]
  },
  {
   "cell_type": "code",
   "execution_count": 14,
   "id": "a372d7e6",
   "metadata": {},
   "outputs": [
    {
     "data": {
      "text/plain": [
       "['parton', 'cartin']"
      ]
     },
     "execution_count": 14,
     "metadata": {},
     "output_type": "execute_result"
    }
   ],
   "source": [
    "re.findall(r\".art[a-z]n\", 'parton, part1n, cartón, cartOn, cartin')"
   ]
  },
  {
   "cell_type": "code",
   "execution_count": 15,
   "id": "9e603e73",
   "metadata": {},
   "outputs": [
    {
     "data": {
      "text/plain": [
       "['car']"
      ]
     },
     "execution_count": 15,
     "metadata": {},
     "output_type": "execute_result"
    }
   ],
   "source": [
    "re.findall(r\"^...\", 'carton, part1n, cartón, cartOn, cartin')"
   ]
  },
  {
   "cell_type": "code",
   "execution_count": 16,
   "id": "b9570be6",
   "metadata": {},
   "outputs": [
    {
     "data": {
      "text/plain": [
       "['carton', 'part', 'cart', 'cart', 'cartin']"
      ]
     },
     "execution_count": 16,
     "metadata": {},
     "output_type": "execute_result"
    }
   ],
   "source": [
    "re.findall(r\".a[a-z]+\", 'carton, part1n, cartón, cartOn, certon. cartin')"
   ]
  },
  {
   "cell_type": "code",
   "execution_count": 22,
   "id": "78efa273",
   "metadata": {},
   "outputs": [
    {
     "data": {
      "text/plain": [
       "['m!?asdf,', 'm!?a.']"
      ]
     },
     "execution_count": 22,
     "metadata": {},
     "output_type": "execute_result"
    }
   ],
   "source": [
    "re.findall(r\"m\\!\\?[^ ]+\", 'm!?asdf, m!?a. m\\!')"
   ]
  },
  {
   "cell_type": "code",
   "execution_count": 32,
   "id": "bfc0c40d",
   "metadata": {},
   "outputs": [
    {
     "data": {
      "text/plain": [
       "['m!?asdíf', 'm!?a']"
      ]
     },
     "execution_count": 32,
     "metadata": {},
     "output_type": "execute_result"
    }
   ],
   "source": [
    "re.findall(r\"m\\!\\?[a-zA-Z0-9áéíóúÁÉÍÓÚ]*\", 'm!?asdíf, m!?a. m\\!')"
   ]
  },
  {
   "cell_type": "code",
   "execution_count": 33,
   "id": "4d689d91",
   "metadata": {},
   "outputs": [
    {
     "data": {
      "text/plain": [
       "['m!?asdf,', 'm!?a.']"
      ]
     },
     "execution_count": 33,
     "metadata": {},
     "output_type": "execute_result"
    }
   ],
   "source": [
    "re.findall(r\"m\\!\\?[^ ]+\", 'm!?asdf, m!?a. m\\!')"
   ]
  },
  {
   "cell_type": "markdown",
   "id": "115f22c3",
   "metadata": {},
   "source": [
    "# SUBSTITUTIONS UNTILL NEXT WORD"
   ]
  },
  {
   "cell_type": "code",
   "execution_count": 38,
   "id": "6db626ba",
   "metadata": {},
   "outputs": [
    {
     "data": {
      "text/plain": [
       "\"Hello [REPLY] I awas looking at [REPLY] There is no way, [REPLY] but I'll do\""
      ]
     },
     "execution_count": 38,
     "metadata": {},
     "output_type": "execute_result"
    }
   ],
   "source": [
    "# Substitution until next space or end (commas, point, exclamation... substituted)\n",
    "re.sub(r'@[^ ]+', '[REPLY]', \"Hello @Malcóm, I awas looking at @Pe123TERá! There is no way, @StEvEn87, but I'll do\")"
   ]
  },
  {
   "cell_type": "code",
   "execution_count": 39,
   "id": "3d3b2fb9",
   "metadata": {},
   "outputs": [
    {
     "data": {
      "text/plain": [
       "\"Hello [REPLY], I awas looking at [REPLY]! There is no way, [REPLY], but I'll do\""
      ]
     },
     "execution_count": 39,
     "metadata": {},
     "output_type": "execute_result"
    }
   ],
   "source": [
    "# Substitution until next no letter, no number (commas, points, ex,clamation... not substituted)\n",
    "re.sub(r'@[a-zA-Z0-9áéíóúÁÉÍÓÚñÑ]*', '[REPLY]', \"Hello @MaMañlcómlcomET, I awas looking at @PeET123TERá! There is no way, @StEvEn87, but I'll do\")"
   ]
  },
  {
   "cell_type": "code",
   "execution_count": null,
   "id": "a0a2849d",
   "metadata": {},
   "outputs": [],
   "source": []
  },
  {
   "cell_type": "code",
   "execution_count": 18,
   "id": "183c3669",
   "metadata": {},
   "outputs": [
    {
     "ename": "NameError",
     "evalue": "name 'df' is not defined",
     "output_type": "error",
     "traceback": [
      "\u001b[1;31m---------------------------------------------------------------------------\u001b[0m",
      "\u001b[1;31mNameError\u001b[0m                                 Traceback (most recent call last)",
      "\u001b[1;32mC:\\Users\\ABURGU~1\\AppData\\Local\\Temp/ipykernel_5912/3750557839.py\u001b[0m in \u001b[0;36m<module>\u001b[1;34m\u001b[0m\n\u001b[1;32m----> 1\u001b[1;33m \u001b[0mdf\u001b[0m\u001b[1;33m.\u001b[0m\u001b[0mtweet_prepro\u001b[0m \u001b[1;33m=\u001b[0m \u001b[0mdf\u001b[0m\u001b[1;33m.\u001b[0m\u001b[0mtweet_prepro\u001b[0m\u001b[1;33m.\u001b[0m\u001b[0mstr\u001b[0m\u001b[1;33m.\u001b[0m\u001b[0mreplace\u001b[0m\u001b[1;33m(\u001b[0m\u001b[1;34mr'@[^ ]+'\u001b[0m\u001b[1;33m,\u001b[0m \u001b[1;34m'[REF]'\u001b[0m\u001b[1;33m,\u001b[0m \u001b[0mregex\u001b[0m\u001b[1;33m=\u001b[0m\u001b[1;32mTrue\u001b[0m\u001b[1;33m)\u001b[0m\u001b[1;33m\u001b[0m\u001b[1;33m\u001b[0m\u001b[0m\n\u001b[0m",
      "\u001b[1;31mNameError\u001b[0m: name 'df' is not defined"
     ]
    }
   ],
   "source": [
    "df.tweet_prepro = df.tweet_prepro.str.replace(r'@[^ ]+', '[REF]', regex=True)"
   ]
  },
  {
   "cell_type": "code",
   "execution_count": null,
   "id": "530fed72",
   "metadata": {},
   "outputs": [],
   "source": []
  }
 ],
 "metadata": {
  "kernelspec": {
   "display_name": "Python 3 (ipykernel)",
   "language": "python",
   "name": "python3"
  },
  "language_info": {
   "codemirror_mode": {
    "name": "ipython",
    "version": 3
   },
   "file_extension": ".py",
   "mimetype": "text/x-python",
   "name": "python",
   "nbconvert_exporter": "python",
   "pygments_lexer": "ipython3",
   "version": "3.8.12"
  }
 },
 "nbformat": 4,
 "nbformat_minor": 5
}
